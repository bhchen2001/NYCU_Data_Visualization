{
 "cells": [
  {
   "cell_type": "code",
   "execution_count": 2,
   "metadata": {},
   "outputs": [],
   "source": [
    "import pandas as pd\n",
    "import numpy as np"
   ]
  },
  {
   "cell_type": "code",
   "execution_count": 3,
   "metadata": {},
   "outputs": [],
   "source": [
    "# read csv\n",
    "df = pd.read_csv('../dataset/time_dependent_data_A1.csv')"
   ]
  },
  {
   "cell_type": "code",
   "execution_count": 4,
   "metadata": {},
   "outputs": [
    {
     "data": {
      "text/plain": [
       "array(['雲林縣', '屏東縣', '宜蘭縣', '南投縣', '嘉義縣', '新竹縣', '桃園市', '新竹市', '臺南市',\n",
       "       '高雄市', '臺北市', '臺中市', '彰化縣', '新北市', '臺東縣', '金門縣', '苗栗縣', '澎湖縣',\n",
       "       '花蓮縣', '基隆市', '嘉義市'], dtype=object)"
      ]
     },
     "execution_count": 4,
     "metadata": {},
     "output_type": "execute_result"
    }
   ],
   "source": [
    "# get the county names\n",
    "county_names = df['發生地點'].unique()\n",
    "county_names"
   ]
  },
  {
   "cell_type": "code",
   "execution_count": 5,
   "metadata": {},
   "outputs": [],
   "source": [
    "# for each county, get the death and injury count\n",
    "accident_dict = []\n",
    "for county in county_names:\n",
    "    tmp_dict = {\n",
    "        'city': county,\n",
    "        'death': df[df['發生地點'] == county]['死亡人數'].sum(),\n",
    "        'injury': df[df['發生地點'] == county]['受傷人數'].sum()\n",
    "    }\n",
    "    accident_dict.append(tmp_dict)"
   ]
  },
  {
   "cell_type": "code",
   "execution_count": 6,
   "metadata": {},
   "outputs": [],
   "source": [
    "accident_dict.sort(key=lambda x: x['death'], reverse=True)"
   ]
  },
  {
   "cell_type": "code",
   "execution_count": 7,
   "metadata": {},
   "outputs": [
    {
     "data": {
      "text/plain": [
       "[{'city': '臺中市', 'death': 206, 'injury': 85},\n",
       " {'city': '新北市', 'death': 181, 'injury': 73},\n",
       " {'city': '高雄市', 'death': 179, 'injury': 86},\n",
       " {'city': '臺南市', 'death': 173, 'injury': 63},\n",
       " {'city': '桃園市', 'death': 168, 'injury': 72},\n",
       " {'city': '彰化縣', 'death': 150, 'injury': 53},\n",
       " {'city': '屏東縣', 'death': 124, 'injury': 55},\n",
       " {'city': '雲林縣', 'death': 115, 'injury': 31},\n",
       " {'city': '嘉義縣', 'death': 82, 'injury': 35},\n",
       " {'city': '苗栗縣', 'death': 77, 'injury': 38},\n",
       " {'city': '新竹縣', 'death': 68, 'injury': 30},\n",
       " {'city': '臺北市', 'death': 64, 'injury': 32},\n",
       " {'city': '宜蘭縣', 'death': 59, 'injury': 18},\n",
       " {'city': '南投縣', 'death': 44, 'injury': 20},\n",
       " {'city': '花蓮縣', 'death': 44, 'injury': 15},\n",
       " {'city': '臺東縣', 'death': 39, 'injury': 18},\n",
       " {'city': '新竹市', 'death': 31, 'injury': 11},\n",
       " {'city': '基隆市', 'death': 18, 'injury': 13},\n",
       " {'city': '嘉義市', 'death': 13, 'injury': 8},\n",
       " {'city': '澎湖縣', 'death': 10, 'injury': 4},\n",
       " {'city': '金門縣', 'death': 1, 'injury': 0}]"
      ]
     },
     "execution_count": 7,
     "metadata": {},
     "output_type": "execute_result"
    }
   ],
   "source": [
    "accident_dict"
   ]
  },
  {
   "cell_type": "code",
   "execution_count": 8,
   "metadata": {},
   "outputs": [],
   "source": [
    "for i in range(len(accident_dict)):\n",
    "    accident_dict[i]['rank'] = i + 1"
   ]
  },
  {
   "cell_type": "code",
   "execution_count": 9,
   "metadata": {},
   "outputs": [
    {
     "data": {
      "text/plain": [
       "[{'city': '臺中市', 'death': 206, 'injury': 85, 'rank': 1},\n",
       " {'city': '新北市', 'death': 181, 'injury': 73, 'rank': 2},\n",
       " {'city': '高雄市', 'death': 179, 'injury': 86, 'rank': 3},\n",
       " {'city': '臺南市', 'death': 173, 'injury': 63, 'rank': 4},\n",
       " {'city': '桃園市', 'death': 168, 'injury': 72, 'rank': 5},\n",
       " {'city': '彰化縣', 'death': 150, 'injury': 53, 'rank': 6},\n",
       " {'city': '屏東縣', 'death': 124, 'injury': 55, 'rank': 7},\n",
       " {'city': '雲林縣', 'death': 115, 'injury': 31, 'rank': 8},\n",
       " {'city': '嘉義縣', 'death': 82, 'injury': 35, 'rank': 9},\n",
       " {'city': '苗栗縣', 'death': 77, 'injury': 38, 'rank': 10},\n",
       " {'city': '新竹縣', 'death': 68, 'injury': 30, 'rank': 11},\n",
       " {'city': '臺北市', 'death': 64, 'injury': 32, 'rank': 12},\n",
       " {'city': '宜蘭縣', 'death': 59, 'injury': 18, 'rank': 13},\n",
       " {'city': '南投縣', 'death': 44, 'injury': 20, 'rank': 14},\n",
       " {'city': '花蓮縣', 'death': 44, 'injury': 15, 'rank': 15},\n",
       " {'city': '臺東縣', 'death': 39, 'injury': 18, 'rank': 16},\n",
       " {'city': '新竹市', 'death': 31, 'injury': 11, 'rank': 17},\n",
       " {'city': '基隆市', 'death': 18, 'injury': 13, 'rank': 18},\n",
       " {'city': '嘉義市', 'death': 13, 'injury': 8, 'rank': 19},\n",
       " {'city': '澎湖縣', 'death': 10, 'injury': 4, 'rank': 20},\n",
       " {'city': '金門縣', 'death': 1, 'injury': 0, 'rank': 21}]"
      ]
     },
     "execution_count": 9,
     "metadata": {},
     "output_type": "execute_result"
    }
   ],
   "source": [
    "accident_dict"
   ]
  },
  {
   "cell_type": "code",
   "execution_count": 10,
   "metadata": {},
   "outputs": [],
   "source": [
    "# turn all data to string\n",
    "for i in range(len(accident_dict)):\n",
    "    for key in accident_dict[i].keys():\n",
    "        accident_dict[i][key] = str(accident_dict[i][key])"
   ]
  },
  {
   "cell_type": "code",
   "execution_count": 11,
   "metadata": {},
   "outputs": [],
   "source": [
    "final_data = [{\"data\": accident_dict}]"
   ]
  },
  {
   "cell_type": "code",
   "execution_count": 12,
   "metadata": {},
   "outputs": [
    {
     "data": {
      "text/plain": [
       "[{'data': [{'city': '臺中市', 'death': '206', 'injury': '85', 'rank': '1'},\n",
       "   {'city': '新北市', 'death': '181', 'injury': '73', 'rank': '2'},\n",
       "   {'city': '高雄市', 'death': '179', 'injury': '86', 'rank': '3'},\n",
       "   {'city': '臺南市', 'death': '173', 'injury': '63', 'rank': '4'},\n",
       "   {'city': '桃園市', 'death': '168', 'injury': '72', 'rank': '5'},\n",
       "   {'city': '彰化縣', 'death': '150', 'injury': '53', 'rank': '6'},\n",
       "   {'city': '屏東縣', 'death': '124', 'injury': '55', 'rank': '7'},\n",
       "   {'city': '雲林縣', 'death': '115', 'injury': '31', 'rank': '8'},\n",
       "   {'city': '嘉義縣', 'death': '82', 'injury': '35', 'rank': '9'},\n",
       "   {'city': '苗栗縣', 'death': '77', 'injury': '38', 'rank': '10'},\n",
       "   {'city': '新竹縣', 'death': '68', 'injury': '30', 'rank': '11'},\n",
       "   {'city': '臺北市', 'death': '64', 'injury': '32', 'rank': '12'},\n",
       "   {'city': '宜蘭縣', 'death': '59', 'injury': '18', 'rank': '13'},\n",
       "   {'city': '南投縣', 'death': '44', 'injury': '20', 'rank': '14'},\n",
       "   {'city': '花蓮縣', 'death': '44', 'injury': '15', 'rank': '15'},\n",
       "   {'city': '臺東縣', 'death': '39', 'injury': '18', 'rank': '16'},\n",
       "   {'city': '新竹市', 'death': '31', 'injury': '11', 'rank': '17'},\n",
       "   {'city': '基隆市', 'death': '18', 'injury': '13', 'rank': '18'},\n",
       "   {'city': '嘉義市', 'death': '13', 'injury': '8', 'rank': '19'},\n",
       "   {'city': '澎湖縣', 'death': '10', 'injury': '4', 'rank': '20'},\n",
       "   {'city': '金門縣', 'death': '1', 'injury': '0', 'rank': '21'}]}]"
      ]
     },
     "execution_count": 12,
     "metadata": {},
     "output_type": "execute_result"
    }
   ],
   "source": [
    "final_data"
   ]
  },
  {
   "cell_type": "code",
   "execution_count": 14,
   "metadata": {},
   "outputs": [],
   "source": [
    "# write to json\n",
    "import json\n",
    "with open('../dataset/accident_count.json', 'w') as f:\n",
    "    json.dump(final_data, f, ensure_ascii=False)"
   ]
  }
 ],
 "metadata": {
  "kernelspec": {
   "display_name": "Python 3",
   "language": "python",
   "name": "python3"
  },
  "language_info": {
   "codemirror_mode": {
    "name": "ipython",
    "version": 3
   },
   "file_extension": ".py",
   "mimetype": "text/x-python",
   "name": "python",
   "nbconvert_exporter": "python",
   "pygments_lexer": "ipython3",
   "version": "3.10.12"
  },
  "orig_nbformat": 4
 },
 "nbformat": 4,
 "nbformat_minor": 2
}
